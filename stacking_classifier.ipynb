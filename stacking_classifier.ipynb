{
 "cells": [
  {
   "cell_type": "code",
   "execution_count": 23,
   "metadata": {},
   "outputs": [],
   "source": [
    "import numpy as np \n",
    "import pandas as pd \n",
    "import seaborn as sb\n",
    "import xgboost as xgb\n",
    "import math\n",
    "from subprocess import check_output\n",
    "from sklearn.model_selection import StratifiedKFold\n",
    "from sklearn.ensemble import RandomForestClassifier\n",
    "from sklearn.preprocessing import StandardScaler\n",
    "from sklearn.pipeline import make_pipeline\n",
    "from sklearn.ensemble import StackingClassifier\n",
    "from sklearn.neighbors import KNeighborsClassifier\n",
    "from sklearn.linear_model import LogisticRegression\n",
    "from sklearn.model_selection import cross_val_score\n",
    "from sklearn.model_selection import train_test_split\n",
    "import xgboost as xgb\n",
    "import warnings\n",
    "warnings.simplefilter('ignore')"
   ]
  },
  {
   "cell_type": "code",
   "execution_count": 6,
   "metadata": {},
   "outputs": [],
   "source": [
    "train_data = pd.read_csv(\"trainData.csv\")\n",
    "test_data = pd.read_csv(\"testData.csv\")\n",
    "example_result = pd.read_csv(\"ornekSonuc.csv\")"
   ]
  },
  {
   "cell_type": "code",
   "execution_count": 7,
   "metadata": {},
   "outputs": [],
   "source": [
    "X = train_data.drop(columns=[\"target\"])\n",
    "y = train_data[[\"target\"]]"
   ]
  },
  {
   "cell_type": "code",
   "execution_count": null,
   "metadata": {},
   "outputs": [
    {
     "name": "stdout",
     "output_type": "stream",
     "text": [
      "[22:17:53] WARNING: /Users/travis/build/dmlc/xgboost/src/learner.cc:480: \n",
      "Parameters: { scale_pos_weight, silent } might not be used.\n",
      "\n",
      "  This may not be accurate due to some parameters are only used in language bindings but\n",
      "  passed down to XGBoost core.  Or some parameters are not used but slip through this\n",
      "  verification. Please open an issue if you find above cases.\n",
      "\n",
      "\n",
      "[23:21:55] WARNING: /Users/travis/build/dmlc/xgboost/src/learner.cc:480: \n",
      "Parameters: { scale_pos_weight, silent } might not be used.\n",
      "\n",
      "  This may not be accurate due to some parameters are only used in language bindings but\n",
      "  passed down to XGBoost core.  Or some parameters are not used but slip through this\n",
      "  verification. Please open an issue if you find above cases.\n",
      "\n",
      "\n"
     ]
    }
   ],
   "source": [
    "clf1 = KNeighborsClassifier(n_neighbors=2, n_jobs=-1)\n",
    "clf2 = RandomForestClassifier(random_state=42, max_features='auto', n_estimators= 700, criterion='gini')\n",
    "clf3 = xgb.XGBClassifier(base_score=0.5, booster=None, colsample_bylevel=1,\n",
    "              colsample_bynode=None, colsample_bytree=0.6, gamma=0, gpu_id=None,\n",
    "              importance_type='gain', interaction_constraints=None,\n",
    "              learning_rate=0.03, max_delta_step=0, max_depth=28,\n",
    "              min_child_weight=6, monotone_constraints=None,\n",
    "              n_estimators=700, n_jobs=None, nthread=-1, num_parallel_tree=None,\n",
    "              objective='multi:softmax', random_state=None, reg_alpha=0,\n",
    "              reg_lambda=1, scale_pos_weight=1, seed=0, silent=True,\n",
    "              subsample=0.8, tree_method=None, validate_parameters=None,\n",
    "              verbosity=None)\n",
    "lr = LogisticRegression()\n",
    "\n",
    "estimators = [\n",
    "    ('knn', clf1),\n",
    "    ('rf', clf2),\n",
    "    ('xgb', clf3)\n",
    "]\n",
    "\n",
    "sclf = StackingClassifier(estimators=estimators, final_estimator=lr)\n",
    "\n",
    "X_train_xgb_st, X_test_xgb_st, y_train_xgb_st, y_test_xgb_st = train_test_split(X, y, stratify=y, test_size=0.20, random_state = 5)\n",
    "\n",
    "sclf.fit(X_train_xgb_st, y_train_xgb_st)\n",
    "y_pred_xgb_st = sclf.predict(X_test_xgb_st)\n",
    "xgb_probs_st = sclf.predict_proba(X_test_xgb_st)\n",
    "print(\"Accuracy:\",metrics.accuracy_score(y_test_xgb_st, y_pred_xgb_st))\n",
    "score = log_loss(y_test_xgb_st, xgb_probs_st)\n",
    "print(\"Logloss: \", score)"
   ]
  },
  {
   "cell_type": "code",
   "execution_count": null,
   "metadata": {},
   "outputs": [],
   "source": []
  }
 ],
 "metadata": {
  "kernelspec": {
   "display_name": "my_env",
   "language": "python",
   "name": "my_env"
  },
  "language_info": {
   "codemirror_mode": {
    "name": "ipython",
    "version": 3
   },
   "file_extension": ".py",
   "mimetype": "text/x-python",
   "name": "python",
   "nbconvert_exporter": "python",
   "pygments_lexer": "ipython3",
   "version": "3.7.6"
  }
 },
 "nbformat": 4,
 "nbformat_minor": 4
}
